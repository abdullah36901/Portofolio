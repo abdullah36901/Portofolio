{
  "nbformat": 4,
  "nbformat_minor": 0,
  "metadata": {
    "colab": {
      "provenance": [],
      "authorship_tag": "ABX9TyMuJRLodGKQMB3CW3Fxav80",
      "include_colab_link": true
    },
    "kernelspec": {
      "name": "python3",
      "display_name": "Python 3"
    },
    "language_info": {
      "name": "python"
    }
  },
  "cells": [
    {
      "cell_type": "markdown",
      "metadata": {
        "id": "view-in-github",
        "colab_type": "text"
      },
      "source": [
        "<a href=\"https://colab.research.google.com/github/abdullah36901/Portofolio-Task/blob/main/NA.ipynb\" target=\"_parent\"><img src=\"https://colab.research.google.com/assets/colab-badge.svg\" alt=\"Open In Colab\"/></a>"
      ]
    },
    {
      "cell_type": "code",
      "source": [
        "import numpy as np\n",
        "\n",
        "# Define a class to represent data points with x and y values\n",
        "class DataPoint:\n",
        "    def __init__(self, x, y):\n",
        "        self.x = x\n",
        "        self.y = y\n",
        "\n",
        "# Function for Lagrange Interpolation\n",
        "def lagrange_interpolation(data_points, x_value):\n",
        "    result = 0.0\n",
        "\n",
        "    # Iterate through each data point\n",
        "    for i in range(len(data_points)):\n",
        "        term = data_points[i].y\n",
        "\n",
        "        # Calculate the Lagrange term for the current data point\n",
        "        for j in range(len(data_points)):\n",
        "            if j != i:\n",
        "                term *= (x_value - data_points[j].x) / (data_points[i].x - data_points[j].x)\n",
        "\n",
        "        # Add the term to the result\n",
        "        result += term\n",
        "\n",
        "    return result\n",
        "\n",
        "if __name__ == \"__main__\":\n",
        "    # Provide x and y values as arrays\n",
        "    x_values = [1, 3, 4, 5, 7, 8]\n",
        "    y_values = [32.0, 35.4, 36.8, 35.1, 43.4, 49.8]\n",
        "\n",
        "    # Create DataPoint instances based on the arrays\n",
        "    data_points = [DataPoint(x, y) for x, y in zip(x_values, y_values)]\n",
        "\n",
        "    # Input the x value for interpolation\n",
        "    x_value = float(input(\"Enter the x value for interpolation: \"))\n",
        "\n",
        "    # Calculate and print the interpolated value\n",
        "    interpolated_value = np.round(lagrange_interpolation(data_points, x_value), decimals=1)\n",
        "    print(f\"Interpolated value at {x_value} is: {interpolated_value}\")\n",
        "\n",
        "    x_value = float(input(\"Enter the x value for interpolation: \"))\n",
        "\n",
        "    # Calculate and print the interpolated value\n",
        "    interpolated_value = np.round(lagrange_interpolation(data_points, x_value), decimals=1)\n",
        "    print(f\"Interpolated value at {x_value} is: {interpolated_value}\")"
      ],
      "metadata": {
        "colab": {
          "base_uri": "https://localhost:8080/"
        },
        "id": "KO1xT-ddn3Wl",
        "outputId": "a28f9e9a-54f6-4b6f-9119-02cc7c982a97"
      },
      "execution_count": null,
      "outputs": [
        {
          "output_type": "stream",
          "name": "stdout",
          "text": [
            "Enter the x value for interpolation: 2\n",
            "Interpolated value at 2.0 is: 29.9\n",
            "Enter the x value for interpolation: 6\n",
            "Interpolated value at 6.0 is: 36.2\n"
          ]
        }
      ]
    }
  ]
}